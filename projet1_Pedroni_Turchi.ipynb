{
  "cells": [
    {
      "cell_type": "markdown",
      "metadata": {},
      "source": [
        "Gabriele Pedroni (ENSIIE - M2DS)\n",
        "\n",
        "Lorenzo Turchi (ENSIIE - M2QF)"
      ]
    },
    {
      "cell_type": "markdown",
      "metadata": {
        "id": "1QK2nzhm6k3X"
      },
      "source": [
        "# Classification model for a real application: the Heart dataset\n",
        "The “SAheart.txt” dataset stored a n = 462 sample of males in a heart-disease high-risk region of the Western Cape,\n",
        "South Africa. In this section, the aim of the work is studying classification models to be able to predict the value of the “chd” response variable (coronary heart disease), given the other variables (p = 10).\n",
        "\n",
        "In the next passages, we have imported all the necessaries libraries and extracted the quantitative co-variables (X) and the target response (Y) of this dataset."
      ]
    },
    {
      "cell_type": "code",
      "execution_count": 2,
      "metadata": {},
      "outputs": [],
      "source": [
        "import pandas as pd\n",
        "import numpy as np\n",
        "from sklearn.model_selection import train_test_split\n",
        "from sklearn.preprocessing import StandardScaler\n",
        "from sklearn.naive_bayes import GaussianNB\n",
        "from sklearn.metrics import accuracy_score, precision_score, recall_score, f1_score\n",
        "from sklearn.metrics import roc_auc_score\n",
        "from sklearn.metrics import roc_curve\n",
        "import matplotlib.pyplot as plt\n",
        "from sklearn.discriminant_analysis import LinearDiscriminantAnalysis\n",
        "from sklearn.discriminant_analysis import QuadraticDiscriminantAnalysis\n",
        "from sklearn import tree\n",
        "from sklearn.tree import DecisionTreeClassifier\n",
        "from sklearn.model_selection import GridSearchCV, cross_val_score\n",
        "from sklearn.tree import export_text\n",
        "from sklearn.tree import plot_tree\n",
        "from sklearn.ensemble import BaggingClassifier\n",
        "from sklearn.ensemble import RandomForestClassifier\n",
        "from sklearn.linear_model import LogisticRegression\n",
        "from sklearn.ensemble import AdaBoostClassifier"
      ]
    },
    {
      "cell_type": "code",
      "execution_count": 3,
      "metadata": {
        "colab": {
          "base_uri": "https://localhost:8080/",
          "height": 390
        },
        "id": "UDQfOmKg7ONp",
        "outputId": "6e2ede38-5c4b-4992-aead-430e08be922e"
      },
      "outputs": [
        {
          "name": "stdout",
          "output_type": "stream",
          "text": [
            "     row.names  sbp  tobacco    ldl  adiposity  famhist  typea  obesity  \\\n",
            "0            1  160    12.00   5.73      23.11  Present     49    25.30   \n",
            "1            2  144     0.01   4.41      28.61   Absent     55    28.87   \n",
            "2            3  118     0.08   3.48      32.28  Present     52    29.14   \n",
            "3            4  170     7.50   6.41      38.03  Present     51    31.99   \n",
            "4            5  134    13.60   3.50      27.78  Present     60    25.99   \n",
            "..         ...  ...      ...    ...        ...      ...    ...      ...   \n",
            "457        459  214     0.40   5.98      31.72   Absent     64    28.45   \n",
            "458        460  182     4.20   4.41      32.10   Absent     52    28.61   \n",
            "459        461  108     3.00   1.59      15.23   Absent     40    20.09   \n",
            "460        462  118     5.40  11.61      30.79   Absent     64    27.35   \n",
            "461        463  132     0.00   4.82      33.41  Present     62    14.70   \n",
            "\n",
            "     alcohol  age  chd  \n",
            "0      97.20   52    1  \n",
            "1       2.06   63    1  \n",
            "2       3.81   46    0  \n",
            "3      24.26   58    1  \n",
            "4      57.34   49    1  \n",
            "..       ...  ...  ...  \n",
            "457     0.00   58    0  \n",
            "458    18.72   52    1  \n",
            "459    26.64   55    0  \n",
            "460    23.97   40    0  \n",
            "461     0.00   46    1  \n",
            "\n",
            "[462 rows x 11 columns]\n"
          ]
        },
        {
          "data": {
            "text/plain": [
              "(462, 11)"
            ]
          },
          "execution_count": 3,
          "metadata": {},
          "output_type": "execute_result"
        }
      ],
      "source": [
        "#Application SA Heart\n",
        "tab = pd.read_csv('SAheart.txt')\n",
        "print(tab)\n",
        "np.shape(tab)"
      ]
    },
    {
      "cell_type": "markdown",
      "metadata": {
        "id": "4LiBY_jL7gQI"
      },
      "source": [
        "These are the covariates in our dataset:\n",
        "*   sbp: systolic blood pressure\n",
        "*   tobacco: cumulative tobacco (kg)\n",
        "*   ldl: low density lipoprotein cholesterol\n",
        "*   adiposity: not recorded in source; maybe another measurement of obesity similar to BMI.\n",
        "*   famhist: family history of heart disease (Present, Absent)\n",
        "*   typea: type-A behavior\n",
        "*   obesity: A measure of obesity; body mass index (or BMI) is consistent with Rossouw et al. (1983). Having BMI >= 30 scored as \"obese\" by Rossouw et al. (1983).\n",
        "*   alcohol: current alcohol consumption\n",
        "*   age: age at onset\n",
        "*   chd: coronary heart disease (response variable)\n",
        "\n"
      ]
    },
    {
      "cell_type": "code",
      "execution_count": null,
      "metadata": {
        "colab": {
          "base_uri": "https://localhost:8080/",
          "height": 175
        },
        "id": "jnUPemtV-rmd",
        "outputId": "51745bbe-4c50-4c81-8035-b972d1b969f0"
      },
      "outputs": [],
      "source": [
        "print(tab.columns)"
      ]
    },
    {
      "cell_type": "code",
      "execution_count": 4,
      "metadata": {
        "colab": {
          "base_uri": "https://localhost:8080/",
          "height": 227
        },
        "id": "AZzQ7k38EQV8",
        "outputId": "86920306-614f-42fc-fd18-f5634a9091f6"
      },
      "outputs": [],
      "source": [
        "Y=tab[\"chd\"]\n",
        "Xnum=tab.loc[:,['sbp','tobacco','ldl','adiposity','typea','obesity','alcohol','age']]\n",
        "X=Xnum.to_numpy()"
      ]
    },
    {
      "cell_type": "markdown",
      "metadata": {
        "id": "vKGQ0NOVzLej"
      },
      "source": [
        "In this problem, we cannot generate a test set. For this reason, we need to split our dataset into training set and the test set through an arbitrary threshold that will define the proportion of data that will compose the test set. The remaing data will form the training set."
      ]
    },
    {
      "cell_type": "code",
      "execution_count": 5,
      "metadata": {
        "id": "md8ZvpjF2Z0w"
      },
      "outputs": [],
      "source": [
        "X_train, X_test, y_train, y_test = train_test_split(X, Y, test_size=0.2)"
      ]
    },
    {
      "cell_type": "markdown",
      "metadata": {},
      "source": [
        "The following step represents the data normalization necessary in order to conduct a meaningful analysis. The key theoretical concept in what we are about to do is that we have to act as if we are in possession only of the training set, so our scaler must be defined according to the data in X_train and then we have to normalize X_test according to the same scaler (which might seem counter intuitive)."
      ]
    },
    {
      "cell_type": "code",
      "execution_count": 6,
      "metadata": {},
      "outputs": [],
      "source": [
        "scaler = StandardScaler()\n",
        "X_train = scaler.fit_transform(X_train)\n",
        "X_test = scaler.transform(X_test)"
      ]
    },
    {
      "cell_type": "markdown",
      "metadata": {},
      "source": [
        "The following classification methods are proved and in the sequent order:\n",
        "- Naive Bayes\n",
        "- Linear Discrimination Analysis\n",
        "- Quadratic Discrimination Analysis\n",
        "- Logistic Regression\n",
        "- Decision Tree Classifier\n",
        "- Bagging\n",
        "- Random Forest\n",
        "\n",
        "We decided to not use K-Nearest-Neighbor classifier because as we saw during the lecture (lecture 1, slide 43), the euclidean distance loses its discrimination ability in high dimensional spaces."
      ]
    },
    {
      "cell_type": "markdown",
      "metadata": {},
      "source": [
        "## Naive Bayes"
      ]
    },
    {
      "cell_type": "markdown",
      "metadata": {},
      "source": [
        "### Naive Bayes: model calibration"
      ]
    },
    {
      "cell_type": "code",
      "execution_count": null,
      "metadata": {},
      "outputs": [],
      "source": [
        "nb = GaussianNB()\n",
        "nb_fit = nb.fit(X_train, y_train)\n",
        "\n",
        "pY_test=nb_fit.predict_proba(X_test)\n",
        "predxclass=np.argmax(pY_test,axis=1)\n",
        "print(predxclass)"
      ]
    },
    {
      "cell_type": "markdown",
      "metadata": {},
      "source": [
        "### Naive Bayes: evaluation of the model"
      ]
    },
    {
      "cell_type": "code",
      "execution_count": null,
      "metadata": {},
      "outputs": [],
      "source": [
        "nb_accuracy = accuracy_score(y_test, predxclass)\n",
        "nb_precision = precision_score(y_test, predxclass)\n",
        "nb_recall = recall_score(y_test, predxclass)\n",
        "nb_f1_score = f1_score(y_test, predxclass)\n",
        "\n",
        "print(f\"Accuracy using NB is: {nb_accuracy:.3f}\")\n",
        "print(f\"Precision using NB is: {nb_precision:.3f}\")\n",
        "print(f\"Recall using NB is: {nb_recall:.3f}\")\n",
        "print(f\"F1-score using NB is: {nb_f1_score:.3f}\")"
      ]
    },
    {
      "cell_type": "markdown",
      "metadata": {},
      "source": [
        "### Naive Bayes: ROC curve"
      ]
    },
    {
      "cell_type": "markdown",
      "metadata": {},
      "source": [
        "To have another metric to compare the various classification methods, we think it is useful to visualize the ROC curve and to compute the AUC."
      ]
    },
    {
      "cell_type": "code",
      "execution_count": null,
      "metadata": {},
      "outputs": [],
      "source": [
        "nb_y_prob_1 = pY_test[:, 1]\n",
        "nb_FPR, nb_TPR, nb_threshold = roc_curve(y_test, nb_y_prob_1)\n",
        "\n",
        "figure = plt.figure(figsize=(4,2))\n",
        "plt.plot(nb_FPR, nb_TPR, linewidth=2)\n",
        "plt.title('Naive Bayes. ROC Curve')\n",
        "plt.xlabel('False Positive Rate')\n",
        "plt.ylabel('True Positive Rate')\n",
        "plt.plot(nb_TPR, nb_TPR, \"k--\", linewidth = 2)\n",
        "plt.grid(linestyle='dashed')\n",
        "plt.show()\n",
        "\n",
        "nb_y_pred = nb_fit.predict(X_test)\n",
        "nb_auc_score = roc_auc_score(y_test, nb_y_pred)\n",
        "print(f\"The area under the ROC Curve, using Naive Bayes Classifier is: {nb_auc_score:.3f}\")"
      ]
    },
    {
      "cell_type": "markdown",
      "metadata": {},
      "source": [
        "## Linear Discriminant Analysis"
      ]
    },
    {
      "cell_type": "markdown",
      "metadata": {},
      "source": [
        "### LDA: model calibration"
      ]
    },
    {
      "cell_type": "code",
      "execution_count": null,
      "metadata": {},
      "outputs": [],
      "source": [
        "lda = LinearDiscriminantAnalysis()\n",
        "lda_fit = lda.fit(X_train, y_train)\n",
        "\n",
        "predxclass = lda.predict(X_test)\n",
        "pY_test = lda_fit.predict_proba(X_test)"
      ]
    },
    {
      "cell_type": "markdown",
      "metadata": {},
      "source": [
        "### LDA: evaluation of the model"
      ]
    },
    {
      "cell_type": "code",
      "execution_count": null,
      "metadata": {},
      "outputs": [],
      "source": [
        "lda_accuracy = accuracy_score(y_test, predxclass)\n",
        "lda_precision = precision_score(y_test, predxclass)\n",
        "lda_recall = recall_score(y_test, predxclass)\n",
        "lda_f1_score = f1_score(y_test, predxclass)\n",
        "\n",
        "print(f\"Accuracy using LDA is: {lda_accuracy:.3f}\")\n",
        "print(f\"Precision using LDA is: {lda_precision:.3f}\")\n",
        "print(f\"Recall using LDA is: {lda_recall:.3f}\")\n",
        "print(f\"F1-score using LDA is: {lda_f1_score:.3f}\")"
      ]
    },
    {
      "cell_type": "markdown",
      "metadata": {},
      "source": [
        "### LDA: ROC curve"
      ]
    },
    {
      "cell_type": "code",
      "execution_count": null,
      "metadata": {},
      "outputs": [],
      "source": [
        "lda_y_prob_1 = pY_test[:, 1]\n",
        "lda_FPR, lda_TPR, lda_threshold = roc_curve(y_test, lda_y_prob_1)\n",
        "\n",
        "figure = plt.figure(figsize=(4,2))\n",
        "plt.plot(lda_FPR, lda_TPR, linewidth=2)\n",
        "plt.title('Linear Discriminant Analysis. ROC Curve')\n",
        "plt.xlabel('False Positive Rate')\n",
        "plt.ylabel('True Positive Rate')\n",
        "plt.plot(lda_TPR, lda_TPR, \"k--\", linewidth = 2)\n",
        "plt.grid(linestyle='dashed')\n",
        "plt.show()\n",
        "\n",
        "lda_y_pred = lda_fit.predict(X_test)\n",
        "lda_auc_score = roc_auc_score(y_test, lda_y_pred)\n",
        "print(f\"The area under the ROC Curve, using LDA is: {lda_auc_score:.3f}\")"
      ]
    },
    {
      "cell_type": "markdown",
      "metadata": {},
      "source": [
        "## Quadratic Discriminant Analysis"
      ]
    },
    {
      "cell_type": "markdown",
      "metadata": {},
      "source": [
        "### QDA: model calibration"
      ]
    },
    {
      "cell_type": "code",
      "execution_count": null,
      "metadata": {},
      "outputs": [],
      "source": [
        "qda = QuadraticDiscriminantAnalysis()\n",
        "qda_fit = qda.fit(X_train, y_train)\n",
        "\n",
        "predxclass = qda.predict(X_test)\n",
        "pY_test = qda_fit.predict_proba(X_test)"
      ]
    },
    {
      "cell_type": "markdown",
      "metadata": {},
      "source": [
        "### QDA: evaluation of the model"
      ]
    },
    {
      "cell_type": "code",
      "execution_count": null,
      "metadata": {},
      "outputs": [],
      "source": [
        "qda_accuracy = accuracy_score(y_test, predxclass)\n",
        "qda_precision = precision_score(y_test, predxclass)\n",
        "qda_recall = recall_score(y_test, predxclass)\n",
        "qda_f1_score = f1_score(y_test, predxclass)\n",
        "\n",
        "print(f\"Accuracy using QDA is: {qda_accuracy:.3f}\")\n",
        "print(f\"Precision using QDA is: {qda_precision:.3f}\")\n",
        "print(f\"Recall using QDA is: {qda_recall:.3f}\")\n",
        "print(f\"F1-score using QDA is: {qda_f1_score:.3f}\")"
      ]
    },
    {
      "cell_type": "markdown",
      "metadata": {},
      "source": [
        "### QDA: ROC curve"
      ]
    },
    {
      "cell_type": "code",
      "execution_count": null,
      "metadata": {},
      "outputs": [],
      "source": [
        "qda_y_prob_1 = pY_test[:, 1]\n",
        "qda_FPR, qda_TPR, qda_threshold = roc_curve(y_test, qda_y_prob_1)\n",
        "\n",
        "figure = plt.figure(figsize=(4,2))\n",
        "plt.plot(qda_FPR, qda_TPR, linewidth=2)\n",
        "plt.title('Quadratic Discriminant Analysis. ROC Curve')\n",
        "plt.xlabel('False Positive Rate')\n",
        "plt.ylabel('True Positive Rate')\n",
        "plt.plot(qda_TPR, qda_TPR, \"k--\", linewidth = 2)\n",
        "plt.grid(linestyle='dashed')\n",
        "plt.show()\n",
        "\n",
        "qda_y_pred = qda_fit.predict(X_test)\n",
        "qda_auc_score = roc_auc_score(y_test, qda_y_pred)\n",
        "print(f\"The area under the ROC Curve, using QDA is: {qda_auc_score:.3f}\")"
      ]
    },
    {
      "cell_type": "markdown",
      "metadata": {},
      "source": [
        "# Logistic Regression"
      ]
    },
    {
      "cell_type": "markdown",
      "metadata": {},
      "source": [
        "### Logistic Regression: model calibration"
      ]
    },
    {
      "cell_type": "code",
      "execution_count": null,
      "metadata": {},
      "outputs": [],
      "source": [
        "# Creating and fitting the logistic regression model\n",
        "LR = LogisticRegression()\n",
        "lr_fit = LR.fit(X_train, y_train)\n",
        "\n",
        "# Making predictions on the test set\n",
        "predxclass = LR.predict(X_test)\n",
        "pY_test = lr_fit.predict_proba(X_test)"
      ]
    },
    {
      "cell_type": "markdown",
      "metadata": {},
      "source": [
        "### Logistic Regression: evaluation of the model"
      ]
    },
    {
      "cell_type": "code",
      "execution_count": null,
      "metadata": {},
      "outputs": [],
      "source": [
        "lr_accuracy = accuracy_score(y_test, predxclass)\n",
        "lr_precision = precision_score(y_test, predxclass)\n",
        "lr_recall = recall_score(y_test, predxclass)\n",
        "lr_f1_score = f1_score(y_test, predxclass)\n",
        "\n",
        "print(f\"Accuracy using LR is: {lr_accuracy:.3f}\")\n",
        "print(f\"Precision using LR is: {lr_precision:.3f}\")\n",
        "print(f\"Recall using LR is: {lr_recall:.3f}\")\n",
        "print(f\"F1-score using LR is: {lr_f1_score:.3f}\")"
      ]
    },
    {
      "cell_type": "markdown",
      "metadata": {},
      "source": [
        "### Logistic Regression: ROC curve"
      ]
    },
    {
      "cell_type": "code",
      "execution_count": null,
      "metadata": {},
      "outputs": [],
      "source": [
        "lr_y_prob_1 = pY_test[:, 1]\n",
        "lr_FPR, lr_TPR, lr_threshold = roc_curve(y_test, lr_y_prob_1)\n",
        "\n",
        "figure = plt.figure(figsize=(4,2))\n",
        "plt.plot(lr_FPR, lr_TPR, linewidth=2)\n",
        "plt.title('Logistic Regression. ROC Curve')\n",
        "plt.xlabel('False Positive Rate')\n",
        "plt.ylabel('True Positive Rate')\n",
        "plt.plot(lr_TPR, lr_TPR, \"k--\", linewidth = 2)\n",
        "plt.grid(linestyle='dashed')\n",
        "plt.show()\n",
        "\n",
        "lr_y_pred = lr_fit.predict(X_test)\n",
        "lr_auc_score = roc_auc_score(y_test, lr_y_pred)\n",
        "print(f\"The area under the ROC Curve, using LR is: {lr_auc_score:.3f}\")"
      ]
    },
    {
      "cell_type": "markdown",
      "metadata": {
        "id": "OwiKPnV6EjSD"
      },
      "source": [
        "## Classification Decision Tree"
      ]
    },
    {
      "cell_type": "markdown",
      "metadata": {},
      "source": [
        "From here on, the pipeline for the evaluation of the model gets more complicated: for Naive Bayes, LDA and QDA, applying the knowledge from the lectures, we reasoned that there were not hyperparameters to estimate via CV.\n",
        "\n",
        "Sadly, this is not the case for Classification Decision Tree, Bagging and Random Forest: we are going to tune the main hyperparameters via 10-fold CV picking the optimal parameter from a grid of values we deem feasible for this problem, thus from now on we are going to add a section \"parameter estimation\" to each section."
      ]
    },
    {
      "cell_type": "markdown",
      "metadata": {
        "id": "Qj6IqDv5xBQH"
      },
      "source": [
        "### Decision Tree: parameter estimation"
      ]
    },
    {
      "cell_type": "code",
      "execution_count": null,
      "metadata": {
        "id": "yiNVsstbEqiz"
      },
      "outputs": [],
      "source": [
        "tree = DecisionTreeClassifier()\n",
        "\n",
        "param_grid = {\n",
        "    'max_depth': [2, 4, 6, 8, 10, 12, 14, 16, 18, 20],\n",
        "    'min_samples_leaf': [1, 2, 4, 6, 8, 10, 12, 14, 16, 18, 20]\n",
        "}\n",
        "\n",
        "grid_search = GridSearchCV(estimator=tree, param_grid=param_grid, cv=10, scoring='accuracy')\n",
        "grid_search.fit(X_train, y_train)\n",
        "\n",
        "best_params = grid_search.best_params_\n",
        "max_depth_cv = grid_search.best_params_['max_depth']\n",
        "print(f\"The optimal value for the hyperparameter max depth is: {max_depth_cv}\")\n",
        "min_samples_leaf_cv = grid_search.best_params_['min_samples_leaf']\n",
        "print(f\"The optimal value for the hyperparameter min samples leaf is: {min_samples_leaf_cv}\")"
      ]
    },
    {
      "cell_type": "markdown",
      "metadata": {
        "id": "an64cHvTlyHB"
      },
      "source": [
        "### Decision Tree: model calibration"
      ]
    },
    {
      "cell_type": "code",
      "execution_count": null,
      "metadata": {
        "id": "QYQxF21PmIAd"
      },
      "outputs": [],
      "source": [
        "tree = DecisionTreeClassifier(max_depth = max_depth_cv, min_samples_leaf=min_samples_leaf_cv)\n",
        "treefit = tree.fit(X_train, y_train)\n",
        "\n",
        "pY_test=treefit.predict_proba(X_test)\n",
        "predxclass=np.argmax(pY_test,axis=1)\n",
        "print(predxclass)"
      ]
    },
    {
      "cell_type": "markdown",
      "metadata": {
        "id": "HwQv8ebQoF7U"
      },
      "source": [
        "### Decision Tree: evaluation of the model / scores"
      ]
    },
    {
      "cell_type": "code",
      "execution_count": null,
      "metadata": {
        "id": "iG7TzaTooIWt"
      },
      "outputs": [],
      "source": [
        "dt_accuracy = accuracy_score(y_test, predxclass)\n",
        "dt_precision = precision_score(y_test, predxclass)\n",
        "dt_recall = recall_score(y_test, predxclass)\n",
        "dt_f1_score = f1_score(y_test, predxclass)\n",
        "dt_E_test = (y_test != predxclass).sum()/len(y_test)\n",
        "\n",
        "print(f\"Accuracy using Classification DT: {dt_accuracy:.3f}\")\n",
        "print(f\"Precision using Classification DT: {dt_precision:.3f}\")\n",
        "print(f\"Recall using Classification DT: {dt_recall:.3f}\")\n",
        "print(f\"F1-score using Classification DT: {dt_f1_score:.3f}\")\n",
        "print(f\"Error in the testing set using Classification DT: {dt_E_test:.3f}\")"
      ]
    },
    {
      "cell_type": "markdown",
      "metadata": {
        "id": "McVNwIrXs8wh"
      },
      "source": [
        "Let us explore visually the structure of the tree."
      ]
    },
    {
      "cell_type": "code",
      "execution_count": null,
      "metadata": {
        "id": "cOgMPta6tCJO"
      },
      "outputs": [],
      "source": [
        "r = export_text(treefit)\n",
        "print(r)"
      ]
    },
    {
      "cell_type": "markdown",
      "metadata": {},
      "source": [
        "For a cleaner visualization"
      ]
    },
    {
      "cell_type": "code",
      "execution_count": null,
      "metadata": {},
      "outputs": [],
      "source": [
        "# Retrieve the names of the features\n",
        "f_names = ['sbp','tobacco','ldl','adiposity','typea','obesity','alcohol','age']\n",
        "c_names = ['0','1']\n",
        "\n",
        "# Visualize the decision tree\n",
        "plt.figure(figsize=(15, 10))\n",
        "plot_tree(tree, feature_names=f_names, class_names=c_names, filled=True)\n",
        "plt.show()"
      ]
    },
    {
      "cell_type": "markdown",
      "metadata": {},
      "source": [
        "### Decision Tree: ROC curve"
      ]
    },
    {
      "cell_type": "code",
      "execution_count": null,
      "metadata": {},
      "outputs": [],
      "source": [
        "tree_y_prob_1 = pY_test[:, 1]\n",
        "tree_FPR, tree_TPR, tree_threshold = roc_curve(y_test, tree_y_prob_1)\n",
        "\n",
        "figure = plt.figure(figsize=(4,2))\n",
        "plt.plot(tree_FPR, tree_TPR, linewidth=2)\n",
        "plt.title('Decision Tree ROC Curve')\n",
        "plt.xlabel('False Positive Rate')\n",
        "plt.ylabel('True Positive Rate')\n",
        "plt.plot(tree_TPR, tree_TPR, \"k--\", linewidth = 2)\n",
        "plt.grid(linestyle='dashed')\n",
        "plt.show()\n",
        "\n",
        "tree_y_pred = treefit.predict(X_test)\n",
        "tree_auc_score = roc_auc_score(y_test, tree_y_pred)\n",
        "print(f\"The area under the ROC Curve, using Classification Decision Tree is: {tree_auc_score:.3f}\")"
      ]
    },
    {
      "cell_type": "markdown",
      "metadata": {
        "id": "qDWsA-QsPpkH"
      },
      "source": [
        "## Bagging"
      ]
    },
    {
      "cell_type": "markdown",
      "metadata": {},
      "source": [
        "### Bagging: parameters estimation"
      ]
    },
    {
      "cell_type": "code",
      "execution_count": null,
      "metadata": {
        "id": "V-2cIUKHPucg"
      },
      "outputs": [],
      "source": [
        "treemod = DecisionTreeClassifier(max_depth=max_depth_cv)\n",
        "\n",
        "param_grid = {\n",
        "    'n_estimators':[2, 5,10,25,50],\n",
        "    'max_samples':[0.8, 1.0],\n",
        "    'max_features':[0.8, 1.0]\n",
        "}\n",
        "\n",
        "#bagmod=BaggingClassifier(base_estimator=treemod, n_estimators=n_estimators_grid, random_state=0)\n",
        "bagging = BaggingClassifier(estimator=treemod)\n",
        "grid_search = GridSearchCV(bagging, param_grid, cv=10)\n",
        "grid_search.fit(X_train, y_train)\n",
        "\n",
        "best_params = grid_search.best_params_\n",
        "print(best_params)\n",
        "\n",
        "n_estimators_cv = grid_search.best_params_['n_estimators']\n",
        "print(f\"The optimal value for the hyperparameter n estimators is: {n_estimators_cv}\")\n",
        "max_features_cv = grid_search.best_params_['max_features']\n",
        "print(f\"The optimal value for the hyperparameter max features is: {max_features_cv}\")\n",
        "max_samples_cv = grid_search.best_params_['max_samples']\n",
        "print(f\"The optimal value for the hyperparameter max samples is: {max_samples_cv}\")"
      ]
    },
    {
      "cell_type": "markdown",
      "metadata": {},
      "source": [
        "### Bagging: model calibration"
      ]
    },
    {
      "cell_type": "code",
      "execution_count": null,
      "metadata": {},
      "outputs": [],
      "source": [
        "bagmod=BaggingClassifier(n_estimators=n_estimators_cv, max_features=max_features_cv, max_samples=max_samples_cv, random_state=0)\n",
        "\n",
        "treemodfit=treemod.fit(X_train, y_train)\n",
        "bagmodfit=bagmod.fit(X_train, y_train)\n",
        "pY_test=bagmodfit.predict_proba(X_test)\n",
        "predxclass=np.argmax(pY_test,axis=1)"
      ]
    },
    {
      "cell_type": "markdown",
      "metadata": {},
      "source": [
        "### Bagging: evaluation of the model / scores"
      ]
    },
    {
      "cell_type": "code",
      "execution_count": null,
      "metadata": {},
      "outputs": [],
      "source": [
        "bag_accuracy = accuracy_score(y_test, predxclass)\n",
        "bag_precision = precision_score(y_test, predxclass)\n",
        "bag_recall = recall_score(y_test, predxclass)\n",
        "bag_f1_score = f1_score(y_test, predxclass)\n",
        "bag_E_test = (y_test != predxclass).sum() / len(y_test)\n",
        "\n",
        "print(f\"Accuracy using Bagging is: {bag_accuracy:.3f}\")\n",
        "print(f\"Precision using Bagging is: {bag_precision:.3f}\")\n",
        "print(f\"Recall using Bagging is: {bag_recall:.3f}\")\n",
        "print(f\"F1-score using Bagging is: {bag_f1_score:.3f}\")\n",
        "print(f\"Error in the testing set using Bagging: {bag_E_test:.3f}\")\n"
      ]
    },
    {
      "cell_type": "markdown",
      "metadata": {},
      "source": [
        "### Bagging: ROC curve"
      ]
    },
    {
      "cell_type": "code",
      "execution_count": null,
      "metadata": {},
      "outputs": [],
      "source": [
        "bag_y_prob_1 = bagmodfit.predict_proba(X_test)[:, 1]\n",
        "bag_FPR, bag_TPR, bag_threshold = roc_curve(y_test, bag_y_prob_1)\n",
        "\n",
        "figure=plt.figure(figsize=(4,2))\n",
        "plt.plot(bag_FPR, bag_TPR, linewidth=2)\n",
        "plt.title('Bagging ROC Curve')\n",
        "plt.xlabel('False Positive Rate')\n",
        "plt.ylabel('True Positive Rate')\n",
        "plt.plot(bag_TPR, bag_TPR, \"k--\", linewidth=2)\n",
        "plt.grid(linestyle='dashed')\n",
        "plt.show()\n",
        "\n",
        "bag_y_pred = bagmodfit.predict(X_test)\n",
        "bag_auc_score = roc_auc_score(y_test, bag_y_pred)\n",
        "print(f\"The area under the ROC Curve, using Bagging, is: {bag_auc_score:.3f}\")"
      ]
    },
    {
      "cell_type": "markdown",
      "metadata": {
        "id": "bZN1YSRPPvQk"
      },
      "source": [
        "## Random Forest"
      ]
    },
    {
      "cell_type": "markdown",
      "metadata": {},
      "source": [
        "### RF: parameters estimation"
      ]
    },
    {
      "cell_type": "code",
      "execution_count": null,
      "metadata": {
        "id": "dRIiNEBeP4vI"
      },
      "outputs": [],
      "source": [
        "param_grid = {\n",
        "    'n_estimators':[50, 100, 200],  \n",
        "    'max_depth':[3, 5, 7, 10], \n",
        "    'min_samples_split':[2, 5],\n",
        "    'min_samples_leaf':[1, 2]\n",
        "}\n",
        "#RF = RandomForestClassifier(max_depth=max_depth_cv, random_state=0, oob_score = True, max_features='sqrt', )\n",
        "RF = RandomForestClassifier()\n",
        "grid_search = GridSearchCV(RF, param_grid, cv = 10)\n",
        "grid_search.fit(X_train, y_train)\n",
        "\n",
        "best_params = grid_search.best_params_\n",
        "\n",
        "n_estimators_cv = grid_search.best_params_['n_estimators']\n",
        "print(f\"The optimal value for the hyperparameter n estimators is: {n_estimators_cv}\")\n",
        "max_depth_cv = grid_search.best_params_['max_depth']\n",
        "print(f\"The optimal value for the hyperparameter max depth is: {max_depth_cv}\")\n",
        "min_samples_split_cv = grid_search.best_params_['min_samples_split']\n",
        "print(f\"The optimal value for the hyperparameter min samples split is: {min_samples_split_cv}\")\n",
        "min_samples_leaf_cv = grid_search.best_params_['min_samples_leaf']\n",
        "print(f\"The optimal value for the hyperparameter min samples leaf is: {min_samples_leaf_cv}\")"
      ]
    },
    {
      "cell_type": "markdown",
      "metadata": {},
      "source": [
        "### RF: model calibration"
      ]
    },
    {
      "cell_type": "code",
      "execution_count": null,
      "metadata": {},
      "outputs": [],
      "source": [
        "RF = RandomForestClassifier(max_depth=max_depth_cv, random_state=0, oob_score = True, max_features='sqrt', n_estimators=n_estimators_cv, min_samples_leaf=min_samples_leaf_cv, min_samples_split=min_samples_split_cv)\n",
        "\n",
        "RFfit = RF.fit(X_train, y_train)\n",
        "pY_test=RFfit.predict_proba(X_test)\n",
        "predxclass=np.argmax(pY_test,axis=1)"
      ]
    },
    {
      "cell_type": "markdown",
      "metadata": {},
      "source": [
        "### RF: evaluation of the model / scores"
      ]
    },
    {
      "cell_type": "code",
      "execution_count": null,
      "metadata": {},
      "outputs": [],
      "source": [
        "rf_accuracy = accuracy_score(y_test, predxclass)\n",
        "rf_precision = precision_score(y_test, predxclass)\n",
        "rf_recall = recall_score(y_test, predxclass)\n",
        "rf_f1_score = f1_score(y_test, predxclass)\n",
        "rf_E_test = (y_test != predxclass).sum() / len(y_test)\n",
        "OOB=RF.oob_score_\n",
        "\n",
        "print(f\"Accuracy using RF is: {rf_accuracy:.3f}\")\n",
        "print(f\"Precision using RF is: {rf_precision:.3f}\")\n",
        "print(f\"Recall using RF is: {rf_recall:.3f}\")\n",
        "print(f\"F1-score using RF is: {rf_f1_score:.3f}\")\n",
        "print(f\"Error in the testing set using RF: {bag_E_test:.3f}\")\n",
        "print(f\"The Out Of the Bag error is: {OOB:.3f}\")"
      ]
    },
    {
      "cell_type": "markdown",
      "metadata": {},
      "source": [
        "### RF: ROC curve"
      ]
    },
    {
      "cell_type": "code",
      "execution_count": null,
      "metadata": {},
      "outputs": [],
      "source": [
        "rf_y_prob_1 = RFfit.predict_proba(X_test)[:, 1]\n",
        "\n",
        "rf_FPR, rf_TPR, rf_threshold = roc_curve(y_test, rf_y_prob_1)\n",
        "\n",
        "figure = plt.figure(figsize=(4, 2))\n",
        "plt.plot(rf_FPR, rf_TPR, linewidth = 2)\n",
        "plt.title('Random Forest ROC Curve')\n",
        "plt.xlabel('False Positive Rate')\n",
        "plt.ylabel('True Positive Rate')\n",
        "plt.plot(rf_TPR, rf_TPR, \"--k\", linewidth=2)\n",
        "plt.grid(linestyle='dashed')\n",
        "plt.show()\n",
        "\n",
        "rf_y_pred = RFfit.predict(X_test)\n",
        "rf_auc_score = roc_auc_score(y_test, rf_y_pred)\n",
        "print(f\"The area under the ROC Curve, using Random Forest, is: {rf_auc_score:.3f}\")"
      ]
    },
    {
      "cell_type": "markdown",
      "metadata": {},
      "source": [
        "### VIM analysis\n",
        "Due to the random selection of the features done by the model, only a restricted number of them has been included in the trees. Therefore, the latter may be problematic if there is one (or more) features that reduce heterogeneity in a greater way than the others. Indeed, not including the variable in the tree will create a meaningless tree (or a tree that does not represent much). At the end, we have decided to include a part where we analyze at the VIM to make sure to that it is at least approximatively balanced."
      ]
    },
    {
      "cell_type": "code",
      "execution_count": null,
      "metadata": {},
      "outputs": [],
      "source": [
        "# Retrieve feature importances\n",
        "importances = RF.feature_importances_\n",
        "\n",
        "# Sort feature importances in descending order\n",
        "indices = importances.argsort()[::-1]\n",
        "\n",
        "# Print the feature ranking\n",
        "print(\"Feature ranking:\")\n",
        "for f in range(X.shape[1]):\n",
        "    print(f\"{f + 1}. Feature {indices[f]}: {importances[indices[f]]:.3f}\")\n",
        "\n",
        "plt.figure()\n",
        "plt.title(\"Feature Importances\")\n",
        "plt.bar(range(X_train.shape[1]), importances[indices], color='b', align='center')\n",
        "plt.xticks(range((X_train.shape[1])), indices)\n",
        "plt.xlim([-1, X_train.shape[1]])\n",
        "plt.show()"
      ]
    },
    {
      "cell_type": "markdown",
      "metadata": {},
      "source": [
        "The VIM looks balanced so Random Forest is used in a proper way."
      ]
    },
    {
      "cell_type": "markdown",
      "metadata": {},
      "source": [
        "# Adaboost "
      ]
    },
    {
      "cell_type": "markdown",
      "metadata": {},
      "source": [
        "### AB: parameters estimation"
      ]
    },
    {
      "cell_type": "code",
      "execution_count": 8,
      "metadata": {},
      "outputs": [
        {
          "name": "stdout",
          "output_type": "stream",
          "text": [
            "The optimal value for the hyperparameter n estimators is: 50\n",
            "The optimal value for the hyperparameter learning rate is: 1\n"
          ]
        }
      ],
      "source": [
        "from sklearn.ensemble import AdaBoostClassifier\n",
        "param_grid = {\n",
        "    'n_estimators': [50, 100, 200],\n",
        "    'learning_rate': [1, 1.5, 2]\n",
        "}\n",
        "ab = AdaBoostClassifier()\n",
        "grid_search = GridSearchCV(ab, param_grid, cv = 10)\n",
        "grid_search.fit(X_train, y_train)\n",
        "\n",
        "best_params = grid_search.best_params_\n",
        "\n",
        "n_estimators_cv = grid_search.best_params_['n_estimators']\n",
        "print(f\"The optimal value for the hyperparameter n estimators is: {n_estimators_cv}\")\n",
        "learning_rate_cv = grid_search.best_params_['learning_rate']\n",
        "print(f\"The optimal value for the hyperparameter learning rate is: {learning_rate_cv}\")\n"
      ]
    },
    {
      "cell_type": "markdown",
      "metadata": {},
      "source": [
        "### AB: Model calibration"
      ]
    },
    {
      "cell_type": "code",
      "execution_count": 9,
      "metadata": {},
      "outputs": [],
      "source": [
        "ab = AdaBoostClassifier(n_estimators=n_estimators_cv, random_state=0, learning_rate=learning_rate_cv)\n",
        "ab_fit = ab.fit(X_train, y_train)\n",
        "pY_test = ab_fit.predict_proba(X_test)\n",
        "predxclass = np.argmax(pY_test, axis=1)"
      ]
    },
    {
      "cell_type": "markdown",
      "metadata": {},
      "source": [
        "### AB: evaluation of the model"
      ]
    },
    {
      "cell_type": "code",
      "execution_count": 10,
      "metadata": {},
      "outputs": [
        {
          "name": "stdout",
          "output_type": "stream",
          "text": [
            "Accuracy using AB is: 0.645\n",
            "Precision using AB is: 0.600\n",
            "Recall using AB is: 0.395\n",
            "F1-score using AB is: 0.476\n"
          ]
        }
      ],
      "source": [
        "ab_accuracy = accuracy_score(y_test, predxclass)\n",
        "ab_precision = precision_score(y_test, predxclass)\n",
        "ab_recall = recall_score(y_test, predxclass)\n",
        "ab_f1_score = f1_score(y_test, predxclass)\n",
        "\n",
        "print(f\"Accuracy using AB is: {ab_accuracy:.3f}\")\n",
        "print(f\"Precision using AB is: {ab_precision:.3f}\")\n",
        "print(f\"Recall using AB is: {ab_recall:.3f}\")\n",
        "print(f\"F1-score using AB is: {ab_f1_score:.3f}\")"
      ]
    },
    {
      "cell_type": "markdown",
      "metadata": {},
      "source": [
        "### AB: ROC Curve"
      ]
    },
    {
      "cell_type": "code",
      "execution_count": 12,
      "metadata": {},
      "outputs": [
        {
          "data": {
            "image/png": "[encoded data removed]",
            "text/plain": [
              "<Figure size 400x200 with 1 Axes>"
            ]
          },
          "metadata": {},
          "output_type": "display_data"
        },
        {
          "name": "stdout",
          "output_type": "stream",
          "text": [
            "The area under the ROC Curve, using Adaboost, is: 0.606\n"
          ]
        }
      ],
      "source": [
        "ab_y_prob_1 = ab_fit.predict_proba(X_test)[:, 1]\n",
        "\n",
        "ab_FPR, ab_TPR, ab_threshold = roc_curve(y_test, ab_y_prob_1)\n",
        "\n",
        "figure = plt.figure(figsize=(4, 2))\n",
        "plt.plot(ab_FPR, ab_TPR, linewidth = 2)\n",
        "plt.title('Adaboost ROC Curve')\n",
        "plt.xlabel('False Positive Rate')\n",
        "plt.ylabel('True Positive Rate')\n",
        "plt.plot(ab_TPR, ab_TPR, \"--k\", linewidth=2)\n",
        "plt.grid(linestyle='dashed')\n",
        "plt.show()\n",
        "\n",
        "ab_y_pred = ab_fit.predict(X_test)\n",
        "ab_auc_score = roc_auc_score(y_test, ab_y_pred)\n",
        "print(f\"The area under the ROC Curve, using Adaboost, is: {ab_auc_score:.3f}\")"
      ]
    },
    {
      "cell_type": "code",
      "execution_count": 20,
      "metadata": {},
      "outputs": [
        {
          "data": {
            "text/plain": [
              "(0.0, 1.0)"
            ]
          },
          "execution_count": 20,
          "metadata": {},
          "output_type": "execute_result"
        },
        {
          "data": {
            "image/png": "[encoded data removed]",
            "text/plain": [
              "<Figure size 600x400 with 1 Axes>"
            ]
          },
          "metadata": {},
          "output_type": "display_data"
        }
      ],
      "source": [
        "from sklearn import metrics\n",
        "ab_staged = ab.staged_predict(X_test)\n",
        "\n",
        "ab_seq_errors = []\n",
        "for predxclass in ab_staged:\n",
        "    ab_seq_errors.append(metrics.accuracy_score(y_test, predxclass))\n",
        "\n",
        "plt.figure(figsize=(6,4))\n",
        "plt.plot(ab_seq_errors)\n",
        "plt.title('Adaboost Tree Accuracy')\n",
        "plt.ylabel('Accuracy')\n",
        "plt.xlabel('Number of Trees')\n",
        "plt.ylim(0, 1)"
      ]
    },
    {
      "cell_type": "markdown",
      "metadata": {},
      "source": [
        "# Gradient Boosting"
      ]
    },
    {
      "cell_type": "markdown",
      "metadata": {},
      "source": [
        "### GB: parameters estimation"
      ]
    },
    {
      "cell_type": "code",
      "execution_count": 24,
      "metadata": {},
      "outputs": [
        {
          "name": "stderr",
          "output_type": "stream",
          "text": [
            "c:\\Users\\loren\\AppData\\Local\\Programs\\Python\\Python311\\Lib\\site-packages\\sklearn\\model_selection\\_validation.py:425: FitFailedWarning: \n",
            "90 fits failed out of a total of 270.\n",
            "The score on these train-test partitions for these parameters will be set to nan.\n",
            "If these failures are not expected, you can try to debug them by setting error_score='raise'.\n",
            "\n",
            "Below are more details about the failures:\n",
            "--------------------------------------------------------------------------------\n",
            "90 fits failed with the following error:\n",
            "Traceback (most recent call last):\n",
            "  File \"c:\\Users\\loren\\AppData\\Local\\Programs\\Python\\Python311\\Lib\\site-packages\\sklearn\\model_selection\\_validation.py\", line 732, in _fit_and_score\n",
            "    estimator.fit(X_train, y_train, **fit_params)\n",
            "  File \"c:\\Users\\loren\\AppData\\Local\\Programs\\Python\\Python311\\Lib\\site-packages\\sklearn\\base.py\", line 1144, in wrapper\n",
            "    estimator._validate_params()\n",
            "  File \"c:\\Users\\loren\\AppData\\Local\\Programs\\Python\\Python311\\Lib\\site-packages\\sklearn\\base.py\", line 637, in _validate_params\n",
            "    validate_parameter_constraints(\n",
            "  File \"c:\\Users\\loren\\AppData\\Local\\Programs\\Python\\Python311\\Lib\\site-packages\\sklearn\\utils\\_param_validation.py\", line 95, in validate_parameter_constraints\n",
            "    raise InvalidParameterError(\n",
            "sklearn.utils._param_validation.InvalidParameterError: The 'loss' parameter of GradientBoostingClassifier must be a str among {'log_loss', 'exponential'}. Got 'deviance' instead.\n",
            "\n",
            "  warnings.warn(some_fits_failed_message, FitFailedWarning)\n",
            "c:\\Users\\loren\\AppData\\Local\\Programs\\Python\\Python311\\Lib\\site-packages\\sklearn\\model_selection\\_search.py:976: UserWarning: One or more of the test scores are non-finite: [0.65315315 0.6503003  0.63693694        nan        nan        nan\n",
            " 0.64234234 0.65022523 0.6503003  0.61531532 0.63423423 0.63956456\n",
            "        nan        nan        nan 0.63430931 0.63160661 0.64504505\n",
            " 0.63393393 0.63153153 0.62342342        nan        nan        nan\n",
            " 0.63408408 0.6204955  0.6204955 ]\n",
            "  warnings.warn(\n"
          ]
        },
        {
          "name": "stdout",
          "output_type": "stream",
          "text": [
            "The optimal value for the hyperparameter n estimators is: 50\n",
            "The optimal value for the hyperparameter learning rate is: 0.1\n",
            "The optimal value for the hyperparameter loss is: log_loss\n"
          ]
        }
      ],
      "source": [
        "from sklearn.datasets import make_classification\n",
        "from sklearn.ensemble import GradientBoostingClassifier\n",
        "\n",
        "param_grid = {\n",
        "    'n_estimators':[50, 100, 150],\n",
        "    'learning_rate':[0.1, 0.5, 1],\n",
        "    'loss':['log_loss', 'deviance', 'exponential']\n",
        "}\n",
        "gb = GradientBoostingClassifier()\n",
        "grid_search = GridSearchCV(gb, param_grid, cv = 10)\n",
        "grid_search.fit(X_train, y_train)\n",
        "\n",
        "best_params = grid_search.best_params_\n",
        "\n",
        "n_estimators_cv = grid_search.best_params_['n_estimators']\n",
        "print(f\"The optimal value for the hyperparameter n estimators is: {n_estimators_cv}\")\n",
        "learning_rate_cv = grid_search.best_params_['learning_rate']\n",
        "print(f\"The optimal value for the hyperparameter learning rate is: {learning_rate_cv}\")\n",
        "loss_cv = grid_search.best_params_['loss']\n",
        "print(f\"The optimal value for the hyperparameter loss is: {loss_cv}\")\n",
        "\n"
      ]
    },
    {
      "cell_type": "markdown",
      "metadata": {},
      "source": [
        "### GB: model calibration"
      ]
    },
    {
      "cell_type": "code",
      "execution_count": null,
      "metadata": {},
      "outputs": [],
      "source": [
        "gb = GradientBoostingClassifier(loss=loss_cv, n_estimators=n_estimators_cv, learning_rate=learning_rate_cv)\n",
        "\n",
        "gb_fit = gb.fit(X_train, y_train)"
      ]
    },
    {
      "cell_type": "markdown",
      "metadata": {},
      "source": [
        "## K-fold Cross Validation"
      ]
    },
    {
      "cell_type": "code",
      "execution_count": null,
      "metadata": {},
      "outputs": [],
      "source": [
        "from sklearn.model_selection import train_test_split\n",
        "\n",
        "\"\"\"accurancy_train_k = np.zeros(k)\n",
        "precision_train_k = np.zeros(k)\n",
        "recall_train_k = np.zeros(k)\n",
        "F1_score_train_k = np.zeros(k)\"\"\"\n",
        "\n",
        "k = 5\n",
        "\n",
        "nb_accurancy_test_k = np.zeros(k)\n",
        "nb_precision_test_k = np.zeros(k)\n",
        "nb_recall_test_k = np.zeros(k)\n",
        "nb_F1_score_test_k = np.zeros(k)\n",
        "nb_accurancy_test_k[0] = nb_accuracy\n",
        "nb_precision_test_k[0] = nb_precision\n",
        "nb_recall_test_k[0] = nb_recall\n",
        "nb_F1_score_test_k[0] = nb_f1_score\n",
        "\n",
        "lda_accurancy_test_k = np.zeros(k)\n",
        "lda_precision_test_k = np.zeros(k)\n",
        "lda_recall_test_k = np.zeros(k)\n",
        "lda_F1_score_test_k = np.zeros(k)\n",
        "lda_accurancy_test_k[0] = lda_accuracy\n",
        "lda_precision_test_k[0] = lda_precision\n",
        "lda_recall_test_k[0] = lda_recall\n",
        "lda_F1_score_test_k[0] = lda_f1_score\n",
        "\n",
        "qda_accurancy_test_k = np.zeros(k)\n",
        "qda_precision_test_k = np.zeros(k)\n",
        "qda_recall_test_k = np.zeros(k)\n",
        "qda_F1_score_test_k = np.zeros(k)\n",
        "qda_accurancy_test_k[0] = qda_accuracy\n",
        "qda_precision_test_k[0] = qda_precision\n",
        "qda_recall_test_k[0] = qda_recall\n",
        "qda_F1_score_test_k[0] = qda_f1_score\n",
        "\n",
        "lr_accurancy_test_k = np.zeros(k)\n",
        "lr_precision_test_k = np.zeros(k)\n",
        "lr_recall_test_k = np.zeros(k)\n",
        "lr_F1_score_test_k = np.zeros(k)\n",
        "lr_accurancy_test_k[0] = lr_accuracy\n",
        "lr_precision_test_k[0] = lr_precision\n",
        "lr_recall_test_k[0] = lr_recall\n",
        "lr_F1_score_test_k[0] = lr_f1_score\n",
        "\n",
        "cdt_accurancy_test_k = np.zeros(k)\n",
        "cdt_precision_test_k = np.zeros(k)\n",
        "cdt_recall_test_k = np.zeros(k)\n",
        "cdt_F1_score_test_k = np.zeros(k)\n",
        "cdt_accurancy_test_k[0] = dt_accuracy\n",
        "cdt_precision_test_k[0] = dt_precision\n",
        "cdt_recall_test_k[0] = dt_recall\n",
        "cdt_F1_score_test_k[0] = dt_f1_score\n",
        "\n",
        "bag_accurancy_test_k = np.zeros(k)\n",
        "bag_precision_test_k = np.zeros(k)\n",
        "bag_recall_test_k = np.zeros(k)\n",
        "bag_F1_score_test_k = np.zeros(k)\n",
        "bag_accurancy_test_k[0] = bag_accuracy\n",
        "bag_precision_test_k[0] = bag_precision\n",
        "bag_recall_test_k[0] = bag_recall\n",
        "bag_F1_score_test_k[0] = bag_f1_score\n",
        "\n",
        "rf_accurancy_test_k = np.zeros(k)\n",
        "rf_precision_test_k = np.zeros(k)\n",
        "rf_recall_test_k = np.zeros(k)\n",
        "rf_F1_score_test_k = np.zeros(k)\n",
        "rf_accurancy_test_k[0] = rf_accuracy\n",
        "rf_precision_test_k[0] = rf_precision\n",
        "rf_recall_test_k[0] = rf_recall\n",
        "rf_F1_score_test_k[0] = rf_f1_score\n",
        "\n",
        "for i in range(1,k):\n",
        "    X_train, X_test, y_train, y_test = train_test_split(X, Y, test_size=0.2)\n",
        "\n",
        "    nb = GaussianNB()\n",
        "    nb_fit = nb.fit(X_train, y_train)\n",
        "    pY_test=nb_fit.predict_proba(X_test)\n",
        "    predxclass=np.argmax(pY_test,axis=1)\n",
        "    nb_accurancy_test_k[i] = accuracy_score(y_test, predxclass) #same thing written before\n",
        "    nb_precision_test_k[i] = precision_score(y_test, predxclass)\n",
        "    nb_recall_test_k[i] = recall_score(y_test, predxclass)\n",
        "    nb_F1_score_test_k[i] = f1_score(y_test, predxclass)\n",
        "\n",
        "    lda = LinearDiscriminantAnalysis()\n",
        "    lda_fit = lda.fit(X_train, y_train)\n",
        "    predxclass = lda.predict(X_test)\n",
        "    lda_accurancy_test_k[i] = accuracy_score(y_test, predxclass) #same thing written before\n",
        "    lda_precision_test_k[i] = precision_score(y_test, predxclass)\n",
        "    lda_recall_test_k[i] = recall_score(y_test, predxclass)\n",
        "    lda_F1_score_test_k[i] = f1_score(y_test, predxclass)\n",
        "\n",
        "    qda = QuadraticDiscriminantAnalysis()\n",
        "    qda_fit = qda.fit(X_train, y_train)\n",
        "    predxclass = qda.predict(X_test)\n",
        "    qda_accurancy_test_k[i] = accuracy_score(y_test, predxclass) #same thing written before\n",
        "    qda_precision_test_k[i] = precision_score(y_test, predxclass)\n",
        "    qda_recall_test_k[i] = recall_score(y_test, predxclass)\n",
        "    qda_F1_score_test_k[i] = f1_score(y_test, predxclass)\n",
        "\n",
        "    LR = LogisticRegression()\n",
        "    lr_fit = LR.fit(X_train, y_train)\n",
        "    predxclass = LR.predict(X_test)\n",
        "    lr_accurancy_test_k[i] = accuracy_score(y_test, predxclass) #same thing written before\n",
        "    lr_precision_test_k[i] = precision_score(y_test, predxclass)\n",
        "    lr_recall_test_k[i] = recall_score(y_test, predxclass)\n",
        "    lr_F1_score_test_k[i] = f1_score(y_test, predxclass)\n",
        "\n",
        "    tree = DecisionTreeClassifier(max_depth = max_depth_cv, min_samples_leaf=min_samples_leaf_cv)\n",
        "    treefit = tree.fit(X_train, y_train)\n",
        "    pY_test=treefit.predict_proba(X_test)\n",
        "    predxclass=np.argmax(pY_test,axis=1)\n",
        "    cdt_accurancy_test_k[i] = accuracy_score(y_test, predxclass) #same thing written before\n",
        "    cdt_precision_test_k[i] = precision_score(y_test, predxclass)\n",
        "    cdt_recall_test_k[i] = recall_score(y_test, predxclass)\n",
        "    cdt_F1_score_test_k[i] = f1_score(y_test, predxclass)\n",
        "\n",
        "    bagmod=BaggingClassifier(base_estimator=treemod, n_estimators=n_estimators_cv, max_features=max_features_cv, max_samples=max_samples_cv, random_state=0)\n",
        "    treemodfit=treemod.fit(X_train, y_train)\n",
        "    bagmodfit=bagmod.fit(X_train, y_train)\n",
        "    pY_test=bagmodfit.predict_proba(X_test)\n",
        "    predxclass=np.argmax(pY_test,axis=1)\n",
        "    bag_accurancy_test_k[i] = accuracy_score(y_test, predxclass) #same thing written before\n",
        "    bag_precision_test_k[i] = precision_score(y_test, predxclass)\n",
        "    bag_recall_test_k[i] = recall_score(y_test, predxclass)\n",
        "    bag_F1_score_test_k[i] = f1_score(y_test, predxclass)\n",
        "\n",
        "    RF = RandomForestClassifier(max_depth=max_depth_cv, random_state=0, oob_score = True, max_features='sqrt', n_estimators=n_estimators_cv, min_samples_leaf=min_samples_leaf_cv, min_samples_split=min_samples_split_cv)\n",
        "    RFfit = RF.fit(X_train, y_train)\n",
        "    pY_test=RFfit.predict_proba(X_test)\n",
        "    predxclass=np.argmax(pY_test,axis=1)\n",
        "    rf_accurancy_test_k[i] = accuracy_score(y_test, predxclass) #same thing written before\n",
        "    rf_precision_test_k[i] = precision_score(y_test, predxclass)\n",
        "    rf_recall_test_k[i] = recall_score(y_test, predxclass)\n",
        "    rf_F1_score_test_k[i] = f1_score(y_test, predxclass)\n",
        "\n",
        "nb_acc_final = np.mean(nb_accurancy_test_k)\n",
        "print(f\"Accuracy using nb is: {nb_acc_final:.3f}\")\n",
        "nb_prec_final = np.mean(nb_precision_test_k)\n",
        "print(f\"Precision using nb is: {nb_prec_final:.3f}\")\n",
        "nb_rec_final = np.mean(nb_recall_test_k)\n",
        "print(f\"Recall using nb is: {nb_rec_final:.3f}\")\n",
        "nb_F1_final = np.mean(nb_F1_score_test_k)\n",
        "print(f\"F1-score using nb is: {nb_F1_final:.3f}\")\n",
        "\n",
        "print(\" \")\n",
        "\n",
        "lda_acc_final = np.mean(lda_accurancy_test_k)\n",
        "print(f\"Accuracy using lda is: {lda_acc_final:.3f}\")\n",
        "lda_prec_final = np.mean(lda_precision_test_k)\n",
        "print(f\"Precision using lda is: {lda_prec_final:.3f}\")\n",
        "lda_rec_final = np.mean(lda_recall_test_k)\n",
        "print(f\"Recall using lda is: {lda_rec_final:.3f}\")\n",
        "lda_F1_final = np.mean(lda_F1_score_test_k)\n",
        "print(f\"F1-score using lda is: {lda_F1_final:.3f}\")\n",
        "\n",
        "print(\" \")\n",
        "\n",
        "qda_acc_final = np.mean(qda_accurancy_test_k)\n",
        "print(f\"Accuracy using qda is: {qda_acc_final:.3f}\")\n",
        "qda_prec_final = np.mean(qda_precision_test_k)\n",
        "print(f\"Precision using qda is: {qda_prec_final:.3f}\")\n",
        "qda_rec_final = np.mean(qda_recall_test_k)\n",
        "print(f\"Recall using qda is: {qda_rec_final:.3f}\")\n",
        "qda_F1_final = np.mean(qda_F1_score_test_k)\n",
        "print(f\"F1-score using qda is: {qda_F1_final:.3f}\")\n",
        "\n",
        "print(\" \")\n",
        "\n",
        "lr_acc_final = np.mean(lr_accurancy_test_k)\n",
        "print(f\"Accuracy using lr is: {lr_acc_final:.3f}\")\n",
        "lr_prec_final = np.mean(lr_precision_test_k)\n",
        "print(f\"Precision using lr is: {lr_prec_final:.3f}\")\n",
        "lr_rec_final = np.mean(lr_recall_test_k)\n",
        "print(f\"Recall using lr is: {lr_rec_final:.3f}\")\n",
        "lr_F1_final = np.mean(lr_F1_score_test_k)\n",
        "print(f\"F1-score using lr is: {lr_F1_final:.3f}\")\n",
        "\n",
        "print(\" \")\n",
        "\n",
        "cdt_acc_final = np.mean(cdt_accurancy_test_k)\n",
        "print(f\"Accuracy using cdt is: {cdt_acc_final:.3f}\")\n",
        "cdt_prec_final = np.mean(cdt_precision_test_k)\n",
        "print(f\"Precision using cdt is: {cdt_prec_final:.3f}\")\n",
        "cdt_rec_final = np.mean(cdt_recall_test_k)\n",
        "print(f\"Recall using cdt is: {cdt_rec_final:.3f}\")\n",
        "cdt_F1_final = np.mean(cdt_F1_score_test_k)\n",
        "print(f\"F1-score using cdt is: {cdt_F1_final:.3f}\")\n",
        "\n",
        "print(\" \")\n",
        "\n",
        "bag_acc_final = np.mean(bag_accurancy_test_k)\n",
        "print(f\"Accuracy using bag is: {bag_acc_final:.3f}\")\n",
        "bag_prec_final = np.mean(bag_precision_test_k)\n",
        "print(f\"Precision using bag is: {bag_prec_final:.3f}\")\n",
        "bag_rec_final = np.mean(bag_recall_test_k)\n",
        "print(f\"Recall using bag is: {bag_rec_final:.3f}\")\n",
        "bag_F1_final = np.mean(bag_F1_score_test_k)\n",
        "print(f\"F1-score using bag is: {bag_F1_final:.3f}\")\n",
        "\n",
        "print(\" \")\n",
        "\n",
        "rf_acc_final = np.mean(rf_accurancy_test_k)\n",
        "print(f\"Accuracy using rf is: {rf_acc_final:.3f}\")\n",
        "rf_prec_final = np.mean(rf_precision_test_k)\n",
        "print(f\"Precision using rf is: {rf_prec_final:.3f}\")\n",
        "rf_rec_final = np.mean(rf_recall_test_k)\n",
        "print(f\"Recall using rf is: {rf_rec_final:.3f}\")\n",
        "rf_F1_final = np.mean(rf_F1_score_test_k)\n",
        "print(f\"F1-score using rf is: {rf_F1_final:.3f}\")"
      ]
    },
    {
      "cell_type": "markdown",
      "metadata": {},
      "source": [
        "## Conclusion\n",
        "\n",
        "To have a cleaner delivery of what we did, in this notebook we ran the computation first with a single splitting of the dataset, and then in the section \"K-fold cross validation\" (to have more robust conclusion) we have tried different splitting of the dataset and then for each model we computed the average of the scores (accuracy, precision, recall, F1-score) to help us draw our conclusions.\n",
        "\n",
        "This is a classical k-fold cross validation procedure, and to have a summary of the results we transfered all the values on an excel sheet. The values displayed in the excel sheet are not going to be the same as the ones someone can get by running this notebook (the splitting is random). Anyways they represent an example of output from this project.\n",
        "\n",
        "Before getting to our results, we wish to clarify what are the criteria that we are going to use to decide which model is better. Since this is a clinical dataset, talking about a healthcare problem, we think that is more appropriate to penalize the presence of false negatives, because the biggest threat is classifying as healthy a patient that is in fact at risk. \n",
        "\n",
        "Thus, we take into account all the indexes but we are going to focus particularly on recall, that is given by the formula $\\frac{TP}{TP+FN}$ which means that the more false negative discoveries we find, the lower the values of recall is. "
      ]
    },
    {
      "cell_type": "markdown",
      "metadata": {},
      "source": [
        "![Sample table of our results](tabexcl.png)"
      ]
    },
    {
      "cell_type": "markdown",
      "metadata": {},
      "source": [
        "From our results, we can say that the simpler model tend to have more predictive power on the SAheart dataset; whereas LDA and QDA have a higher accuracy than the rest, Naive Bayes is the method that manages to keep a high recall without necessarily lacking accuracy (only 0.02 less than the discriminant analysis methods).\n",
        "\n",
        "If we had to choose between Classification Decision Tree, Bagging and Random Forest, we would pick the first one: all the metrics are clearly superior to the other methods (also computationally less expensive). Thus we deduce that this dataset tends to reward simpler methods. Also, it is worth noting that in the instances where RF had particularly low predictive power, the VIM on the training set was more unbalanced (this fact is coherent with the theory)."
      ]
    }
  ],
  "metadata": {
    "colab": {
      "provenance": []
    },
    "kernelspec": {
      "display_name": "Python 3",
      "name": "python3"
    },
    "language_info": {
      "codemirror_mode": {
        "name": "ipython",
        "version": 3
      },
      "file_extension": ".py",
      "mimetype": "text/x-python",
      "name": "python",
      "nbconvert_exporter": "python",
      "pygments_lexer": "ipython3",
      "version": "3.11.0"
    }
  },
  "nbformat": 4,
  "nbformat_minor": 0
}
